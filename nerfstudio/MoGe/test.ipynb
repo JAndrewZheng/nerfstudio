{
 "cells": [
  {
   "cell_type": "code",
   "execution_count": 1,
   "metadata": {},
   "outputs": [
    {
     "ename": "ModuleNotFoundError",
     "evalue": "No module named 'torch'",
     "output_type": "error",
     "traceback": [
      "\u001b[0;31m---------------------------------------------------------------------------\u001b[0m",
      "\u001b[0;31mModuleNotFoundError\u001b[0m                       Traceback (most recent call last)",
      "Cell \u001b[0;32mIn[1], line 2\u001b[0m\n\u001b[1;32m      1\u001b[0m \u001b[38;5;28;01mimport\u001b[39;00m \u001b[38;5;21;01mcv2\u001b[39;00m\n\u001b[0;32m----> 2\u001b[0m \u001b[38;5;28;01mimport\u001b[39;00m \u001b[38;5;21;01mtorch\u001b[39;00m\n\u001b[1;32m      3\u001b[0m \u001b[38;5;28;01mfrom\u001b[39;00m \u001b[38;5;21;01mmoge\u001b[39;00m\u001b[38;5;21;01m.\u001b[39;00m\u001b[38;5;21;01mmodel\u001b[39;00m \u001b[38;5;28;01mimport\u001b[39;00m MoGeModel\n\u001b[1;32m      5\u001b[0m device \u001b[38;5;241m=\u001b[39m torch\u001b[38;5;241m.\u001b[39mdevice(\u001b[38;5;124m\"\u001b[39m\u001b[38;5;124mcuda\u001b[39m\u001b[38;5;124m\"\u001b[39m)\n",
      "\u001b[0;31mModuleNotFoundError\u001b[0m: No module named 'torch'"
     ]
    }
   ],
   "source": [
    "import cv2\n",
    "import torch\n",
    "from moge.model import MoGeModel\n",
    "\n",
    "device = torch.device(\"cuda\")\n",
    "\n",
    "# Load the model from huggingface hub (or load from local).\n",
    "model = MoGeModel.from_pretrained(\"Ruicheng/moge-vitl\").to(device)                             \n",
    "\n",
    "# Read the input image and convert to tensor (3, H, W) and normalize to [0, 1]\n",
    "input_image = cv2.cvtColor(cv2.imread(\"PATH_TO_IMAGE.jpg\"), cv2.COLOR_BGR2RGB)                       \n",
    "input_image = torch.tensor(input_image / 255, dtype=torch.float32, device=device).permute(2, 0, 1)    \n",
    "\n",
    "# Infer \n",
    "output = model.infer(input_image)\n",
    "# `output` has keys \"points\", \"depth\", \"mask\" and \"intrinsics\",\n",
    "# The maps are in the same size as the input image. \n",
    "# {\n",
    "#     \"points\": (H, W, 3),    # scale-invariant point map in OpenCV camera coordinate system (x right, y down, z forward)\n",
    "#     \"depth\": (H, W),        # scale-invariant depth map\n",
    "#     \"mask\": (H, W),         # a binary mask for valid pixels. \n",
    "#     \"intrinsics\": (3, 3),   # normalized camera intrinsics\n",
    "# }\n",
    "# For more usage details, see the `MoGeModel.infer` docstring."
   ]
  },
  {
   "cell_type": "code",
   "execution_count": null,
   "metadata": {},
   "outputs": [],
   "source": []
  }
 ],
 "metadata": {
  "kernelspec": {
   "display_name": "MoGe",
   "language": "python",
   "name": "python3"
  },
  "language_info": {
   "codemirror_mode": {
    "name": "ipython",
    "version": 3
   },
   "file_extension": ".py",
   "mimetype": "text/x-python",
   "name": "python",
   "nbconvert_exporter": "python",
   "pygments_lexer": "ipython3",
   "version": "3.13.0"
  }
 },
 "nbformat": 4,
 "nbformat_minor": 2
}
